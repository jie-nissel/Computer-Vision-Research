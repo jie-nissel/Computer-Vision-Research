{
 "cells": [
  {
   "cell_type": "markdown",
   "metadata": {},
   "source": [
    "Writer's Note: It is fascinating how our work bridges life science with computer science and mathematics. The computer vision and artificial neural networks try to represent and hence understand better of the human brain using mathematics and realizing by computers. Also the understanding and methods of processing information can be transferred and used in solving business problems.    \n",
    "\n",
    "This notebook is a collection of study notes about image processing, what methods we can use to process the images for subsequent analysis and recognition. \n",
    "\n",
    "![alt text](images/humanvisualsystem.png)\n",
    "Also from: Coursera Deep Learning in Computer Vision by HSE University"
   ]
  },
  {
   "cell_type": "markdown",
   "metadata": {},
   "source": [
    "# Goal: Image Processing "
   ]
  },
  {
   "cell_type": "markdown",
   "metadata": {},
   "source": [
    "Theory: \n",
    "\n",
    "* Brightness Correction: \n",
    "\n",
    "    $y$: pixel brightness on input image\n",
    "\n",
    "    $x$: pixel brightness after correction\n",
    "\n",
    "    $x = f^{-1}(y)$\n",
    "\n",
    "1) check the brightness distribution(histogram) \n",
    "\n",
    "   \n",
    "\n",
    "2) transformation \n",
    "\n",
    "- simple linear transformation (normalization method)\n",
    "\n",
    "\n",
    "$f^{-1}(y) = (y - y_{min})*(255-0)/(y_{max}-y_{min})$\n",
    "\n",
    "    \n",
    "- non-linear transformation, ex, gamma correction\n",
    "\n",
    "    \n",
    "$y = c*c^\\gamma$  \n",
    "\n",
    "    \n",
    "$\\gamma$ < 1 gives more contrast.\n",
    "    \n",
    "    \n",
    "- free-form brightness transformation\n",
    "    \n",
    "- histogram equalizzation"
   ]
  },
  {
   "cell_type": "markdown",
   "metadata": {},
   "source": [
    "* Image Convolution (Kernel*original Image -> convoluted image for the purpose of: blurring, sharpening, embossing, edge detection, and more)\n",
    "\n",
    "    - Smoothing- Gaussian Filter: $3\\sigma$ commonly\n",
    "        Smoothing with larger SD suppresses noise, but also blurs the image. \n",
    "    - Sharpening - Smoothed image - image = more pronounced edges \n",
    "    - Edge Detection (rapid change in image intensity)\n",
    "        - Canny Eddge Detector (filter image with derivative of Gaussian) - 1986\n",
    "\n",
    "\n",
    "\n"
   ]
  },
  {
   "cell_type": "code",
   "execution_count": 1,
   "metadata": {},
   "outputs": [],
   "source": [
    "import pandas as pd"
   ]
  },
  {
   "cell_type": "code",
   "execution_count": null,
   "metadata": {},
   "outputs": [],
   "source": []
  }
 ],
 "metadata": {
  "interpreter": {
   "hash": "31f2aee4e71d21fbe5cf8b01ff0e069b9275f58929596ceb00d14d90e3e16cd6"
  },
  "kernelspec": {
   "display_name": "Python 3.8.2 64-bit",
   "language": "python",
   "name": "python3"
  },
  "language_info": {
   "codemirror_mode": {
    "name": "ipython",
    "version": 3
   },
   "file_extension": ".py",
   "mimetype": "text/x-python",
   "name": "python",
   "nbconvert_exporter": "python",
   "pygments_lexer": "ipython3",
   "version": "3.9.7"
  },
  "orig_nbformat": 4
 },
 "nbformat": 4,
 "nbformat_minor": 2
}
